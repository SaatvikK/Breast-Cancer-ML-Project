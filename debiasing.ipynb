{
 "cells": [
  {
   "cell_type": "code",
   "execution_count": 10,
   "metadata": {},
   "outputs": [],
   "source": [
    "import numpy as np\n",
    "import pandas as pd\n",
    "import matplotlib.pyplot as plt\n",
    "import imblearn as debias # https://imbalanced-learn.org/stable/"
   ]
  },
  {
   "cell_type": "code",
   "execution_count": 11,
   "metadata": {},
   "outputs": [],
   "source": [
    "# RANDOM SAMPLING\n",
    "def XYsplit(df: pd.DataFrame) -> list:\n",
    "  \"\"\"Function to split a df into X and Y arrays.\"\"\"\n",
    "  Y = df[\"diagnosis\"]\n",
    "  X = df.drop([\"diagnosis\"], axis = 1)\n",
    "  return [X, Y]\n",
    "\n",
    "def rndSample(X, Y, mode = \"under\") -> list:\n",
    "  \"\"\"Random Undersampling Technique\"\"\"\n",
    "  sampler = None\n",
    "  if mode == \"under\": sampler = debias.under_sampling.RandomUnderSampler(random_state = 0)\n",
    "  elif mode == \"over\": sampler = debias.over_sampling.RandomOverSampler(random_state = 0)\n",
    "  Xresampled,Yresampled = sampler.fit_resample(X, Y)\n",
    "  return [Xresampled, Yresampled]"
   ]
  },
  {
   "cell_type": "code",
   "execution_count": null,
   "metadata": {},
   "outputs": [
    {
     "ename": "NameError",
     "evalue": "name 'Counter' is not defined",
     "output_type": "error",
     "traceback": [
      "\u001b[0;31m---------------------------------------------------------------------------\u001b[0m",
      "\u001b[0;31mNameError\u001b[0m                                 Traceback (most recent call last)",
      "Cell \u001b[0;32mIn[13], line 8\u001b[0m\n\u001b[1;32m      6\u001b[0m X, Y \u001b[38;5;241m=\u001b[39m XYsplit(df)\n\u001b[1;32m      7\u001b[0m newX, newY \u001b[38;5;241m=\u001b[39m rndSample(X, Y, mode \u001b[38;5;241m=\u001b[39m \u001b[38;5;124m\"\u001b[39m\u001b[38;5;124munder\u001b[39m\u001b[38;5;124m\"\u001b[39m)\n\u001b[0;32m----> 8\u001b[0m \u001b[38;5;28mprint\u001b[39m(\u001b[38;5;28msorted\u001b[39m(\u001b[43mCounter\u001b[49m(newY)\u001b[38;5;241m.\u001b[39mitems()))\n",
      "\u001b[0;31mNameError\u001b[0m: name 'Counter' is not defined"
     ]
    }
   ],
   "source": [
    "# Example driver\n",
    "from ipynb.fs.full.preprocessing import dataPreProcessing\n",
    "from collections import Counter\n",
    "\n",
    "vars = dataPreProcessing(dsFile = \"data\", processes = [\"clean\", \"predMap\"])\n",
    "df = vars[\"df\"]\n",
    "X, Y = XYsplit(df)\n",
    "newX, newY = rndSample(X, Y, mode = \"under\")\n",
    "print(sorted(Counter(newY).items()))\n"
   ]
  }
 ],
 "metadata": {
  "kernelspec": {
   "display_name": "Python 3",
   "language": "python",
   "name": "python3"
  },
  "language_info": {
   "codemirror_mode": {
    "name": "ipython",
    "version": 3
   },
   "file_extension": ".py",
   "mimetype": "text/x-python",
   "name": "python",
   "nbconvert_exporter": "python",
   "pygments_lexer": "ipython3",
   "version": "3.10.16"
  }
 },
 "nbformat": 4,
 "nbformat_minor": 2
}

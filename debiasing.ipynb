{
 "cells": [
  {
   "cell_type": "code",
   "execution_count": 6,
   "metadata": {},
   "outputs": [],
   "source": [
    "import numpy as np\n",
    "import pandas as pd\n",
    "import matplotlib.pyplot as plt\n",
    "import imblearn as debias # https://imbalanced-learn.org/stable/\n",
    "from collections import Counter\n"
   ]
  },
  {
   "cell_type": "code",
   "execution_count": 7,
   "metadata": {},
   "outputs": [],
   "source": [
    "def XYsplit(df: pd.DataFrame) -> pd.DataFrame:\n",
    "  \"\"\"Function to split a df into X and Y arrays.\"\"\"\n",
    "  Y = df[\"diagnosis\"]\n",
    "  X = df.drop([\"diagnosis\"], axis = 1)\n",
    "  return [X, Y]\n",
    "\n",
    "def XYmerge(X: pd.DataFrame, Y: pd.Series) -> pd.DataFrame:\n",
    "  X[\"diagnosis\"] = Y\n",
    "  return X"
   ]
  },
  {
   "cell_type": "code",
   "execution_count": 8,
   "metadata": {},
   "outputs": [],
   "source": [
    "# RANDOM SAMPLING\n",
    "def rndSample(X, Y, mode = \"under\") -> pd.DataFrame:\n",
    "  \"\"\"Random Undersampling Technique\"\"\"\n",
    "  sampler = None\n",
    "  if mode == \"under\": sampler = debias.under_sampling.RandomUnderSampler(random_state = 0)\n",
    "  elif mode == \"over\": sampler = debias.over_sampling.RandomOverSampler(random_state = 0)\n",
    "  Xresampled,Yresampled = sampler.fit_resample(X, Y)\n",
    "  return [Xresampled, Yresampled]"
   ]
  },
  {
   "cell_type": "code",
   "execution_count": 9,
   "metadata": {},
   "outputs": [],
   "source": [
    "# debias.over_sampling.SMOTE/ADASYN\n",
    "# Synthetic Minority Over-sampling TEchnique (SMOTE)\n",
    "\n",
    "def smoteSample(X, Y) -> pd.DataFrame: \n",
    "  sampler = debias.over_sampling.SMOTE()\n",
    "  newX, newY = sampler.fit_resample(X, Y)\n",
    "  return [newX, newY]\n",
    "\n",
    "# ADAptive SYNthetic Technique (ADASYN)\n",
    "def adasynSample(X, Y) -> pd.DataFrame:\n",
    "  sampler = debias.over_sampling.ADASYN()\n",
    "  newX, newY = sampler.fit_resample(X, Y)\n",
    "  return [newX, newY]"
   ]
  },
  {
   "cell_type": "code",
   "execution_count": 10,
   "metadata": {},
   "outputs": [
    {
     "data": {
      "text/plain": [
       "'\\nfrom ipynb.fs.full.preprocessing import dataPreProcessing\\n\\ndef cmpSamplingTechniques(dataFile = \"data\"):\\n  vars = dataPreProcessing(dsFile = dataFile, processes = [\"clean\", \"predMap\"])\\n  df = vars[\"df\"]\\n  X, Y = XYsplit(df)\\n\\n  debiasedSets = [\\n    {\"type\": \"original\", \"set\": {\"X\": X, \"Y\": Y, \"merged\": df}},\\n    {\"type\": \"random over\", \"set\": {\"X\": None, \"Y\": None, \"merged\": None}},\\n    {\"type\": \"random under\", \"set\": {\"X\": None, \"Y\": None, \"merged\": None}},\\n    {\"type\": \"smote\", \"set\": {\"X\": None, \"Y\": None, \"merged\": None}},\\n    {\"type\": \"adasyn\", \"set\": {\"X\": None, \"Y\": None, \"merged\": None}}\\n  ]\\n\\n  debiasedSets[1][\"set\"][\"X\"], debiasedSets[1][\"set\"][\"Y\"] = rndSample(X, Y, mode = \"over\") # Random Over-Sampling\\n  debiasedSets[2][\"set\"][\"X\"], debiasedSets[2][\"set\"][\"Y\"] = rndSample(X, Y, mode = \"under\") # Random Under-Sampling\\n  debiasedSets[3][\"set\"][\"X\"], debiasedSets[3][\"set\"][\"Y\"] = smoteSample(X, Y) # SMOTE\\n  debiasedSets[4][\"set\"][\"X\"], debiasedSets[4][\"set\"][\"Y\"] = adasynSample(X, Y) # ADASYN\\n\\n  print(type(Y))\\n  # Ensure the sampling worked:\\n  for set in  debiasedSets:\\n    print(\"Diagnosis distribution\", set[\"type\"], \":\", sorted(Counter(set[\"set\"][\"Y\"]).items()))\\n    \\n  smoteX, smoteY = debiasedSets[3][\"set\"][\"X\"], debiasedSets[3][\"set\"][\"Y\"]\\n  df = XYmerge(smoteX, smoteY)\\n  print(df)\\ncmpSamplingTechniques()\"\\n'"
      ]
     },
     "execution_count": 10,
     "metadata": {},
     "output_type": "execute_result"
    }
   ],
   "source": [
    "# Example driver\n",
    "\"\"\"\n",
    "from ipynb.fs.full.preprocessing import dataPreProcessing\n",
    "\n",
    "def cmpSamplingTechniques(dataFile = \"data\"):\n",
    "  vars = dataPreProcessing(dsFile = dataFile, processes = [\"clean\", \"predMap\"])\n",
    "  df = vars[\"df\"]\n",
    "  X, Y = XYsplit(df)\n",
    "\n",
    "  debiasedSets = [\n",
    "    {\"type\": \"original\", \"set\": {\"X\": X, \"Y\": Y, \"merged\": df}},\n",
    "    {\"type\": \"random over\", \"set\": {\"X\": None, \"Y\": None, \"merged\": None}},\n",
    "    {\"type\": \"random under\", \"set\": {\"X\": None, \"Y\": None, \"merged\": None}},\n",
    "    {\"type\": \"smote\", \"set\": {\"X\": None, \"Y\": None, \"merged\": None}},\n",
    "    {\"type\": \"adasyn\", \"set\": {\"X\": None, \"Y\": None, \"merged\": None}}\n",
    "  ]\n",
    "\n",
    "  debiasedSets[1][\"set\"][\"X\"], debiasedSets[1][\"set\"][\"Y\"] = rndSample(X, Y, mode = \"over\") # Random Over-Sampling\n",
    "  debiasedSets[2][\"set\"][\"X\"], debiasedSets[2][\"set\"][\"Y\"] = rndSample(X, Y, mode = \"under\") # Random Under-Sampling\n",
    "  debiasedSets[3][\"set\"][\"X\"], debiasedSets[3][\"set\"][\"Y\"] = smoteSample(X, Y) # SMOTE\n",
    "  debiasedSets[4][\"set\"][\"X\"], debiasedSets[4][\"set\"][\"Y\"] = adasynSample(X, Y) # ADASYN\n",
    "\n",
    "  print(type(Y))\n",
    "  # Ensure the sampling worked:\n",
    "  for set in  debiasedSets:\n",
    "    print(\"Diagnosis distribution\", set[\"type\"], \":\", sorted(Counter(set[\"set\"][\"Y\"]).items()))\n",
    "    \n",
    "  smoteX, smoteY = debiasedSets[3][\"set\"][\"X\"], debiasedSets[3][\"set\"][\"Y\"]\n",
    "  df = XYmerge(smoteX, smoteY)\n",
    "  print(df)\n",
    "cmpSamplingTechniques()\"\n",
    "\"\"\""
   ]
  }
 ],
 "metadata": {
  "kernelspec": {
   "display_name": "Python 3",
   "language": "python",
   "name": "python3"
  },
  "language_info": {
   "codemirror_mode": {
    "name": "ipython",
    "version": 3
   },
   "file_extension": ".py",
   "mimetype": "text/x-python",
   "name": "python",
   "nbconvert_exporter": "python",
   "pygments_lexer": "ipython3",
   "version": "3.10.16"
  }
 },
 "nbformat": 4,
 "nbformat_minor": 2
}

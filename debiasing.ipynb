{
 "cells": [
  {
   "cell_type": "code",
   "execution_count": 22,
   "metadata": {},
   "outputs": [],
   "source": [
    "import numpy as np\n",
    "import pandas as pd\n",
    "import matplotlib.pyplot as plt\n",
    "import imblearn as debias # https://imbalanced-learn.org/stable/\n",
    "from collections import Counter\n"
   ]
  },
  {
   "cell_type": "code",
   "execution_count": 23,
   "metadata": {},
   "outputs": [],
   "source": [
    "def XYsplit(df: pd.DataFrame) -> pd.DataFrame:\n",
    "  \"\"\"Function to split a df into X and Y arrays.\"\"\"\n",
    "  Y = df[\"diagnosis\"]\n",
    "  X = df.drop([\"diagnosis\"], axis = 1)\n",
    "  return [X, Y]\n",
    "\n",
    "def XYmerge(X: pd.DataFrame, Y: pd.Series) -> pd.DataFrame:\n",
    "  frames = [X, Y]\n",
    "  return pd.concat(frames)"
   ]
  },
  {
   "cell_type": "code",
   "execution_count": 24,
   "metadata": {},
   "outputs": [],
   "source": [
    "# RANDOM SAMPLING\n",
    "def rndSample(X, Y, mode = \"under\") -> pd.DataFrame:\n",
    "  \"\"\"Random Undersampling Technique\"\"\"\n",
    "  sampler = None\n",
    "  if mode == \"under\": sampler = debias.under_sampling.RandomUnderSampler(random_state = 0)\n",
    "  elif mode == \"over\": sampler = debias.over_sampling.RandomOverSampler(random_state = 0)\n",
    "  Xresampled,Yresampled = sampler.fit_resample(X, Y)\n",
    "  return [Xresampled, Yresampled]"
   ]
  },
  {
   "cell_type": "code",
   "execution_count": 25,
   "metadata": {},
   "outputs": [],
   "source": [
    "# debias.over_sampling.SMOTE/ADASYN\n",
    "# Synthetic Minority Over-sampling TEchnique (SMOTE)\n",
    "\n",
    "def smoteSample(X, Y) -> pd.DataFrame: \n",
    "  sampler = debias.over_sampling.SMOTE()\n",
    "  newX, newY = sampler.fit_resample(X, Y)\n",
    "  return [newX, newY]\n",
    "\n",
    "# ADAptive SYNthetic Technique (ADASYN)\n",
    "def adasynSample(X, Y) -> pd.DataFrame:\n",
    "  sampler = debias.over_sampling.ADASYN()\n",
    "  newX, newY = sampler.fit_resample(X, Y)\n",
    "  return [newX, newY]"
   ]
  },
  {
   "cell_type": "code",
   "execution_count": null,
   "metadata": {},
   "outputs": [
    {
     "name": "stdout",
     "output_type": "stream",
     "text": [
      "<class 'pandas.core.series.Series'>\n",
      "Diagnosis distribution original : [(0, 357), (1, 212)]\n",
      "Diagnosis distribution random over : [(0, 357), (1, 357)]\n",
      "Diagnosis distribution random under : [(0, 212), (1, 212)]\n",
      "Diagnosis distribution smote : [(0, 357), (1, 357)]\n",
      "Diagnosis distribution adasyn : [(0, 357), (1, 358)]\n",
      "Diagnosis distribution before debiasing: [(0, 357), (1, 212)]\n"
     ]
    },
    {
     "ename": "NameError",
     "evalue": "name 'overY' is not defined",
     "output_type": "error",
     "traceback": [
      "\u001b[0;31m---------------------------------------------------------------------------\u001b[0m",
      "\u001b[0;31mNameError\u001b[0m                                 Traceback (most recent call last)",
      "Cell \u001b[0;32mIn[26], line 34\u001b[0m\n\u001b[1;32m     30\u001b[0m   \u001b[38;5;28mprint\u001b[39m(\u001b[38;5;124m\"\u001b[39m\u001b[38;5;124mDiagnosis distribution after smote:\u001b[39m\u001b[38;5;124m\"\u001b[39m, \u001b[38;5;28msorted\u001b[39m(Counter(smoteY)\u001b[38;5;241m.\u001b[39mitems()))\n\u001b[1;32m     31\u001b[0m   \u001b[38;5;28mprint\u001b[39m(\u001b[38;5;124m\"\u001b[39m\u001b[38;5;124mDiagnosis distribution after adasyn:\u001b[39m\u001b[38;5;124m\"\u001b[39m, \u001b[38;5;28msorted\u001b[39m(Counter(adasynY)\u001b[38;5;241m.\u001b[39mitems()))\n\u001b[0;32m---> 34\u001b[0m \u001b[43mcmpSamplingTechniques\u001b[49m\u001b[43m(\u001b[49m\u001b[43m)\u001b[49m\n",
      "Cell \u001b[0;32mIn[26], line 28\u001b[0m, in \u001b[0;36mcmpSamplingTechniques\u001b[0;34m(dataFile)\u001b[0m\n\u001b[1;32m     25\u001b[0m   \u001b[38;5;28mprint\u001b[39m(\u001b[38;5;124m\"\u001b[39m\u001b[38;5;124mDiagnosis distribution\u001b[39m\u001b[38;5;124m\"\u001b[39m, \u001b[38;5;28mset\u001b[39m[\u001b[38;5;124m\"\u001b[39m\u001b[38;5;124mtype\u001b[39m\u001b[38;5;124m\"\u001b[39m], \u001b[38;5;124m\"\u001b[39m\u001b[38;5;124m:\u001b[39m\u001b[38;5;124m\"\u001b[39m, \u001b[38;5;28msorted\u001b[39m(Counter(\u001b[38;5;28mset\u001b[39m[\u001b[38;5;124m\"\u001b[39m\u001b[38;5;124mset\u001b[39m\u001b[38;5;124m\"\u001b[39m][\u001b[38;5;124m\"\u001b[39m\u001b[38;5;124mY\u001b[39m\u001b[38;5;124m\"\u001b[39m])\u001b[38;5;241m.\u001b[39mitems()))\n\u001b[1;32m     27\u001b[0m \u001b[38;5;28mprint\u001b[39m(\u001b[38;5;124m\"\u001b[39m\u001b[38;5;124mDiagnosis distribution before debiasing:\u001b[39m\u001b[38;5;124m\"\u001b[39m, \u001b[38;5;28msorted\u001b[39m(Counter(Y)\u001b[38;5;241m.\u001b[39mitems()))\n\u001b[0;32m---> 28\u001b[0m \u001b[38;5;28mprint\u001b[39m(\u001b[38;5;124m\"\u001b[39m\u001b[38;5;124mDiagnosis distribution after random over:\u001b[39m\u001b[38;5;124m\"\u001b[39m, \u001b[38;5;28msorted\u001b[39m(Counter(\u001b[43moverY\u001b[49m)\u001b[38;5;241m.\u001b[39mitems()))\n\u001b[1;32m     29\u001b[0m \u001b[38;5;28mprint\u001b[39m(\u001b[38;5;124m\"\u001b[39m\u001b[38;5;124mDiagnosis distribution after random under:\u001b[39m\u001b[38;5;124m\"\u001b[39m, \u001b[38;5;28msorted\u001b[39m(Counter(underY)\u001b[38;5;241m.\u001b[39mitems()))\n\u001b[1;32m     30\u001b[0m \u001b[38;5;28mprint\u001b[39m(\u001b[38;5;124m\"\u001b[39m\u001b[38;5;124mDiagnosis distribution after smote:\u001b[39m\u001b[38;5;124m\"\u001b[39m, \u001b[38;5;28msorted\u001b[39m(Counter(smoteY)\u001b[38;5;241m.\u001b[39mitems()))\n",
      "\u001b[0;31mNameError\u001b[0m: name 'overY' is not defined"
     ]
    }
   ],
   "source": [
    "# Example driver\n",
    "from ipynb.fs.full.preprocessing import dataPreProcessing\n",
    "\n",
    "def cmpSamplingTechniques(dataFile = \"data\"):\n",
    "  vars = dataPreProcessing(dsFile = dataFile, processes = [\"clean\", \"predMap\"])\n",
    "  df = vars[\"df\"]\n",
    "  X, Y = XYsplit(df)\n",
    "\n",
    "  debiasedSets = [\n",
    "    {\"type\": \"original\", \"set\": {\"X\": X, \"Y\": Y, \"merged\": df}},\n",
    "    {\"type\": \"random over\", \"set\": {\"X\": None, \"Y\": None, \"merged\": None}},\n",
    "    {\"type\": \"random under\", \"set\": {\"X\": None, \"Y\": None, \"merged\": None}},\n",
    "    {\"type\": \"smote\", \"set\": {\"X\": None, \"Y\": None, \"merged\": None}},\n",
    "    {\"type\": \"adasyn\", \"set\": {\"X\": None, \"Y\": None, \"merged\": None}}\n",
    "  ]\n",
    "\n",
    "  debiasedSets[1][\"set\"][\"X\"], debiasedSets[1][\"set\"][\"Y\"] = rndSample(X, Y, mode = \"over\") # Random Over-Sampling\n",
    "  debiasedSets[2][\"set\"][\"X\"], debiasedSets[2][\"set\"][\"Y\"] = rndSample(X, Y, mode = \"under\") # Random Under-Sampling\n",
    "  debiasedSets[3][\"set\"][\"X\"], debiasedSets[3][\"set\"][\"Y\"] = smoteSample(X, Y) # SMOTE\n",
    "  debiasedSets[4][\"set\"][\"X\"], debiasedSets[4][\"set\"][\"Y\"] = adasynSample(X, Y) # ADASYN\n",
    "\n",
    "  print(type(Y))\n",
    "  # Ensure the sampling worked:\n",
    "  for set in  debiasedSets:\n",
    "    print(\"Diagnosis distribution\", set[\"type\"], \":\", sorted(Counter(set[\"set\"][\"Y\"]).items()))\n",
    "    \n",
    "  \n",
    "\n",
    "cmpSamplingTechniques()"
   ]
  }
 ],
 "metadata": {
  "kernelspec": {
   "display_name": "Python 3",
   "language": "python",
   "name": "python3"
  },
  "language_info": {
   "codemirror_mode": {
    "name": "ipython",
    "version": 3
   },
   "file_extension": ".py",
   "mimetype": "text/x-python",
   "name": "python",
   "nbconvert_exporter": "python",
   "pygments_lexer": "ipython3",
   "version": "3.10.16"
  }
 },
 "nbformat": 4,
 "nbformat_minor": 2
}

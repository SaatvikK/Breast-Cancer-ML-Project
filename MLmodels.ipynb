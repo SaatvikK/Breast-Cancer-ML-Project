{
 "cells": [
  {
   "cell_type": "code",
   "execution_count": 25,
   "metadata": {},
   "outputs": [],
   "source": [
    "# 01/25"
   ]
  },
  {
   "cell_type": "code",
   "execution_count": 26,
   "metadata": {},
   "outputs": [],
   "source": [
    "from ipynb.fs.full.performance import performanceEval as perf\n",
    "from sklearn import tree\n",
    "import matplotlib.pyplot as plt\n",
    "class baseModel:\n",
    "  def __init__(self, model, modelName):\n",
    "    self.model = model\n",
    "    self.modelName = modelName\n",
    "  \n",
    "  def train(self, Xtrain, Ytrain):\n",
    "    self.model.fit(Xtrain, Ytrain)\n",
    "    if self.modelName == \"dtModel\": \n",
    "      plt.figure(figsize=(20, 10), dpi=200)  # bigger figure and higher DPI\n",
    "      tree.plot_tree(self.model, filled=True)\n",
    "      plt.show()\n",
    "    return [\"training complete\", self]\n",
    "  \n",
    "  def test(self, Xtest):\n",
    "    Ypred = self.model.predict(Xtest)\n",
    "    return Ypred\n",
    "  \n",
    "  def perfEval(self, Ypred, Ytest):\n",
    "    return perf(Ypred, Ytest, self.modelName)"
   ]
  },
  {
   "cell_type": "code",
   "execution_count": 27,
   "metadata": {},
   "outputs": [],
   "source": [
    "# 10/24\n",
    "######### LOGISTIC REGRESSION #########\n",
    "from sklearn.linear_model import LogisticRegression\n",
    "\n",
    "class logReg(baseModel):\n",
    "  def __init__(self):\n",
    "    super().__init__(LogisticRegression(random_state=0), \"regModel\")"
   ]
  },
  {
   "cell_type": "code",
   "execution_count": 28,
   "metadata": {},
   "outputs": [],
   "source": [
    "######### SVM #########\n",
    "# https://scikit-learn.org/1.5/modules/svm.html#classification\n",
    "# https://scikit-learn.org/1.5/modules/svm.html#svc (mathematical theory)\n",
    "\n",
    "from sklearn import svm\n",
    "\n",
    "class supVecMac(baseModel):\n",
    "  def __init__(self):\n",
    "    super().__init__(svm.LinearSVC(), \"svmModel\")\n"
   ]
  },
  {
   "cell_type": "code",
   "execution_count": 29,
   "metadata": {},
   "outputs": [],
   "source": [
    "######### Naive Bayes #########\n",
    "from sklearn import naive_bayes\n",
    "\n",
    "class naiBayClass(baseModel):\n",
    "  def __init__(self):\n",
    "    super().__init__(naive_bayes.GaussianNB(), \"nbcModel\")\n"
   ]
  },
  {
   "cell_type": "code",
   "execution_count": 30,
   "metadata": {},
   "outputs": [],
   "source": [
    "######### K-NN #########\n",
    "# https://scikit-learn.org/1.5/modules/neighbors.html#nearest-neighbors-classification\n",
    "from sklearn import neighbors\n",
    "\n",
    "class kNearNeigh(baseModel):\n",
    "  def __init__(self):\n",
    "    super().__init__(neighbors.KNeighborsClassifier(algorithm = 'ball_tree', metric = 'manhattan'), \"knnModel\")\n",
    "    # Reason for using ball-tree algorithm: https://scikit-learn.org/1.5/modules/neighbors.html#Ball_Tree\n",
    "    # See lit review for the reasoning behind the chosen distance metric\n",
    "    # Also: https://scikit-learn.org/1.5/modules/generated/sklearn.metrics.pairwise.distance_metrics.html#sklearn.metrics.pairwise.distance_metrics\n",
    "\n",
    "\n",
    "# Below was last updated 27/12/2024\n",
    "# Manhattan distance: {'accuracy': 96.49122807017544, 'specificity': 100.0, 'sensitivity': 89.74358974358975, 'recall': 89.74358974358975, 'precision': 100.0}\n",
    "# Euclidean distance: {'accuracy': 95.6140350877193, 'specificity': 97.33333333333334, 'sensitivity': 92.3076923076923, 'recall': 92.3076923076923, 'precision': 94.73684210526315}\n",
    "# Cityblock distance: {'accuracy': 96.49122807017544, 'specificity': 100.0, 'sensitivity': 89.74358974358975, 'recall': 89.74358974358975, 'precision': 100.0}\n",
    "# Haversine distance: Not valid for > 2 dimensions\n",
    "# L1 distance: {'accuracy': 96.49122807017544, 'specificity': 100.0, 'sensitivity': 89.74358974358975, 'recall': 89.74358974358975, 'precision': 100.0}\n",
    "# L2 distance: {'accuracy': 95.6140350877193, 'specificity': 97.33333333333334, 'sensitivity': 92.3076923076923, 'recall': 92.3076923076923, 'precision': 94.73684210526315}\n",
    "\n",
    "# From above, can be seen that Manhattan/L1/Cityblock yield the best results."
   ]
  },
  {
   "cell_type": "code",
   "execution_count": 31,
   "metadata": {},
   "outputs": [],
   "source": [
    "######### Decision Tree #########\n",
    "# https://scikit-learn.org/1.5/modules/tree.html#classification\n",
    "# https://scikit-learn.org/1.5/modules/tree.html#mathematical-formulation (mathematical theory)\n",
    "\n",
    "# SKLearn defaultly uses an optimised implementation of the CART decision tree algorithm.\n",
    "from sklearn import tree\n",
    "\n",
    "class decTree(baseModel):\n",
    "  def __init__(self):\n",
    "    super().__init__(tree.DecisionTreeClassifier(criterion='gini', splitter='best'), \"dtModel\")\n"
   ]
  },
  {
   "cell_type": "code",
   "execution_count": 32,
   "metadata": {},
   "outputs": [],
   "source": [
    "# 06/02/2025\n",
    "def runModels(Xtrain, Ytrain, Xtest, modes = [\"train\"], inModels = None):\n",
    "  regModel, svmModel, nbcModel, knnModel, dtModel = logReg(), supVecMac(), naiBayClass(), kNearNeigh(), decTree()\n",
    "  Ypreds = {}\n",
    "  models = {}\n",
    "\n",
    "  if inModels == None and (\"test\" in modes and \"train\" not in modes):\n",
    "      raise Exception(\"Error: Cannot test models without training them. Please either add 'train' to the modes list, or supply the trained models in the `models` param list.\")\n",
    "\n",
    "  models = inModels if inModels != None else {}\n",
    "\n",
    "  if \"train\" in modes and models == {}:\n",
    "    Ypreds[\"Ypred_regModel\"], models[\"regModel\"] = regModel.train(Xtrain, Ytrain)\n",
    "    Ypreds[\"Ypred_svmModel\"], models[\"svmModel\"] = svmModel.train(Xtrain, Ytrain)\n",
    "    Ypreds[\"Ypred_nbcModel\"], models[\"nbcModel\"] = nbcModel.train(Xtrain, Ytrain)\n",
    "    Ypreds[\"Ypred_knnModel\"], models[\"knnModel\"] = knnModel.train(Xtrain, Ytrain)\n",
    "    Ypreds[\"Ypred_dtModel\"], models[\"dtModel\"] = dtModel.train(Xtrain, Ytrain)\n",
    "\n",
    "  if \"test\" in modes:\n",
    "    for model in models:\n",
    "      Ypreds[\"Ypred_\" + model] = models[model].test(Xtest)\n",
    "\n",
    "  return [Ypreds, models]\n"
   ]
  }
 ],
 "metadata": {
  "kernelspec": {
   "display_name": "Python 3",
   "language": "python",
   "name": "python3"
  },
  "language_info": {
   "codemirror_mode": {
    "name": "ipython",
    "version": 3
   },
   "file_extension": ".py",
   "mimetype": "text/x-python",
   "name": "python",
   "nbconvert_exporter": "python",
   "pygments_lexer": "ipython3",
   "version": "3.10.16"
  }
 },
 "nbformat": 4,
 "nbformat_minor": 2
}

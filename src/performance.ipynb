{
 "cells": [
  {
   "cell_type": "code",
   "execution_count": 1,
   "metadata": {},
   "outputs": [],
   "source": [
    "import pandas as pd\n",
    "import sklearn as skl\n",
    "import numpy as np\n",
    "# 11/25\n",
    "# performance metrics\n",
    "def performanceEval(Ytest, Ypred, modelType: str) -> dict:\n",
    "  perfMetrics = {\n",
    "    \"accuracy\": 0.0,\n",
    "    \"specificity\": 0.0, # how many negative cases are correctly classified\n",
    "    \"sensitivity\": 0.0, # how many positive cases are correctly classified\n",
    "    \"recall\": 0.0, # how many actual cases are correctly classified\n",
    "    \"precision\": 0.0 # how many correct predictions out of all predictions.\n",
    "  }\n",
    "  # accuracy\n",
    "  perfMetrics['accuracy'] = skl.metrics.accuracy_score(Ytest, Ypred) * 100\n",
    "  print(modelType, \" accuracy (in %):\", perfMetrics['accuracy'])\n",
    "\n",
    "  # confusion matrix\n",
    "  print(pd.crosstab(Ytest, Ypred, rownames = [\"Actual\"], colnames = [\"Predicted\"], margins = True));\n",
    "\n",
    "  # Find TP, FP, TN, FN for specificity and sensitivity\n",
    "  # We take 1 (M) as positive and 0 (B) as negative.\n",
    "\n",
    "  Ytest = np.array(Ytest.values)\n",
    "  vals = { 'TP': 0, 'FP': 0, 'TN': 0, 'FN': 0 }\n",
    "  for i in range(len(Ypred)):\n",
    "    if(Ypred[i] == 1 and Ytest[i] == 1): #TP\n",
    "      vals['TP'] += 1\n",
    "    elif(Ypred[i] == 0 and Ytest[i] == 0): #TN\n",
    "      vals['TN'] += 1\n",
    "    elif(Ypred[i] == 1 and Ytest[i] == 0): #FP\n",
    "      vals['FP'] += 1\n",
    "    elif(Ypred[i] == 0 and Ytest[i] == 1): #FN\n",
    "      vals['FN'] += 1\n",
    "\n",
    "  perfMetrics['sensitivity'] = (vals['TP']/(vals['TP']+vals['FN']))*100\n",
    "  perfMetrics['specificity'] = (vals['TN']/(vals['TN']+vals['FP']))*100\n",
    "  perfMetrics['recall'] = perfMetrics['sensitivity']\n",
    "  perfMetrics['precision'] = (vals['TP']/(vals['TP']+vals['FP']))*100\n",
    "\n",
    "  return perfMetrics"
   ]
  }
 ],
 "metadata": {
  "kernelspec": {
   "display_name": "Python 3",
   "language": "python",
   "name": "python3"
  },
  "language_info": {
   "codemirror_mode": {
    "name": "ipython",
    "version": 3
   },
   "file_extension": ".py",
   "mimetype": "text/x-python",
   "name": "python",
   "nbconvert_exporter": "python",
   "pygments_lexer": "ipython3",
   "version": "3.10.12"
  }
 },
 "nbformat": 4,
 "nbformat_minor": 2
}

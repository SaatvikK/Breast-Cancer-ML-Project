{
 "cells": [
  {
   "cell_type": "code",
   "execution_count": 6,
   "metadata": {},
   "outputs": [],
   "source": [
    "##################################\n",
    "\n",
    "# DOMAIN ADAPTATION\n",
    "# 25/03/2025 & 26/03/2025\n",
    "\n",
    "##################################"
   ]
  },
  {
   "cell_type": "code",
   "execution_count": 7,
   "metadata": {},
   "outputs": [],
   "source": [
    "import numpy as np\n",
    "import pandas as pd\n",
    "import scipy.linalg as scila\n",
    "from ipynb.fs.full.preprocessing import dataPreProcessing\n",
    " "
   ]
  },
  {
   "cell_type": "code",
   "execution_count": 8,
   "metadata": {},
   "outputs": [],
   "source": [
    "def CORAL(dfS: pd.DataFrame, dfT: pd.DataFrame, λ: float = 0.00001, sourLabels = None) -> pd.DataFrame:\n",
    "  \"\"\"\n",
    "  Implementation of the CORAL domain adaptation approach.\n",
    "  dfS = Source-domain dataset;\n",
    "  dfT = Target-domain dataset;\n",
    "  λ = Regulisation parameter for data whitening. ADAPT documentation says λ = 0.00001 is a good default value.\n",
    "\n",
    "  \"\"\"\n",
    "  if 'diagnosis' in list(dfT.columns): raise Exception(\"`dftT` (target domain dataset) should be UNLABELLED.\")\n",
    "  if dfS.shape[1] != dfT.shape[1]: raise Exception(\"Both datasets must have the same number of features (p). This can be done by applying CFS in the `dataPreProcessing` function with `k = p`.\")\n",
    "  D_S, D_T = dfS.to_numpy(), dfT.to_numpy()\n",
    "  Ip = np.eye(D_S.shape[1])\n",
    "  C_S = np.cov(D_S, rowvar = False) + λ*Ip\n",
    "  C_T = np.cov(D_T, rowvar = False) + λ*Ip\n",
    "  D_Stemp = D_S @ scila.fractional_matrix_power(C_S, -0.5)\n",
    "  D_SEnc = D_Stemp @ scila.fractional_matrix_power(C_T, 0.5)\n",
    "  dfSEnc = convToDF(colNames = dfT.columns.to_list(), data = D_SEnc, labels = sourLabels)\n",
    "\n",
    "  return dfSEnc\n",
    "\n",
    "def convToDF(colNames: list, data: np.array, labels: list) -> pd.DataFrame:\n",
    "  if len(colNames) != data.shape[1]: raise Exception (\"Number of column names should be equal to number of columns in data.\")\n",
    "  df = pd.DataFrame(data=data[0:,0:], index=[i for i in range(data.shape[0])], columns=[colNames[i] for i in range(data.shape[1])])\n",
    "  df[\"diagnosis\"] = labels\n",
    "  return df\n"
   ]
  },
  {
   "cell_type": "code",
   "execution_count": 9,
   "metadata": {},
   "outputs": [
    {
     "name": "stdout",
     "output_type": "stream",
     "text": [
      "grjtgj\n",
      "Number of NANs in data set 1 : id                           0\n",
      "diagnosis                    0\n",
      "radius_mean                  0\n",
      "texture_mean                 0\n",
      "perimeter_mean               0\n",
      "area_mean                    0\n",
      "smoothness_mean              0\n",
      "compactness_mean             0\n",
      "concavity_mean               0\n",
      "concave points_mean          0\n",
      "symmetry_mean                0\n",
      "fractal_dimension_mean       0\n",
      "radius_se                    0\n",
      "texture_se                   0\n",
      "perimeter_se                 0\n",
      "area_se                      0\n",
      "smoothness_se                0\n",
      "compactness_se               0\n",
      "concavity_se                 0\n",
      "concave points_se            0\n",
      "symmetry_se                  0\n",
      "fractal_dimension_se         0\n",
      "radius_worst                 0\n",
      "texture_worst                0\n",
      "perimeter_worst              0\n",
      "area_worst                   0\n",
      "smoothness_worst             0\n",
      "compactness_worst            0\n",
      "concavity_worst              0\n",
      "concave points_worst         0\n",
      "symmetry_worst               0\n",
      "fractal_dimension_worst      0\n",
      "Unnamed: 32                569\n",
      "dtype: int64\n",
      "Preparing to interpolate NANs...\n",
      "Number of NANs now:  id                           0\n",
      "diagnosis                    0\n",
      "radius_mean                  0\n",
      "texture_mean                 0\n",
      "perimeter_mean               0\n",
      "area_mean                    0\n",
      "smoothness_mean              0\n",
      "compactness_mean             0\n",
      "concavity_mean               0\n",
      "concave points_mean          0\n",
      "symmetry_mean                0\n",
      "fractal_dimension_mean       0\n",
      "radius_se                    0\n",
      "texture_se                   0\n",
      "perimeter_se                 0\n",
      "area_se                      0\n",
      "smoothness_se                0\n",
      "compactness_se               0\n",
      "concavity_se                 0\n",
      "concave points_se            0\n",
      "symmetry_se                  0\n",
      "fractal_dimension_se         0\n",
      "radius_worst                 0\n",
      "texture_worst                0\n",
      "perimeter_worst              0\n",
      "area_worst                   0\n",
      "smoothness_worst             0\n",
      "compactness_worst            0\n",
      "concavity_worst              0\n",
      "concave points_worst         0\n",
      "symmetry_worst               0\n",
      "fractal_dimension_worst      0\n",
      "Unnamed: 32                569\n",
      "dtype: int64\n",
      "grjtgj\n",
      "grjtgj\n",
      "Selected features: ['concave points_worst', 'radius_worst', 'radius_se', 'texture_worst', 'smoothness_worst', 'symmetry_worst']\n",
      "Num features: 6\n",
      "grjtgj\n"
     ]
    },
    {
     "name": "stderr",
     "output_type": "stream",
     "text": [
      "/home/saatvikk/uni/yr3/bigboiproject/src/preprocessing.ipynb:21: FutureWarning: DataFrame.interpolate with object dtype is deprecated and will raise in a future version. Call obj.infer_objects(copy=False) before interpolating instead.\n",
      "  \"\\n\",\n"
     ]
    },
    {
     "name": "stdout",
     "output_type": "stream",
     "text": [
      "grjtgj\n",
      "Number of NANs in data set 2 : Area                 0\n",
      "Grey Level           0\n",
      "Gradient Strength    0\n",
      "Noise Fluctuation    0\n",
      "Contrast             0\n",
      "Shape Descriptor     0\n",
      "diagnosis            0\n",
      "dtype: int64\n",
      "Preparing to interpolate NANs...\n",
      "Number of NANs now:  Area                 0\n",
      "Grey Level           0\n",
      "Gradient Strength    0\n",
      "Noise Fluctuation    0\n",
      "Contrast             0\n",
      "Shape Descriptor     0\n",
      "diagnosis            0\n",
      "dtype: int64\n",
      "grjtgj\n",
      "grjtgj\n"
     ]
    },
    {
     "name": "stderr",
     "output_type": "stream",
     "text": [
      "/home/saatvikk/uni/yr3/bigboiproject/src/preprocessing.ipynb:21: FutureWarning: DataFrame.interpolate with object dtype is deprecated and will raise in a future version. Call obj.infer_objects(copy=False) before interpolating instead.\n",
      "  \"\\n\",\n"
     ]
    }
   ],
   "source": [
    "# 26/03/2025\n",
    "# Driver Code\n",
    "source = pd.read_csv(\"../data/data.csv\")\n",
    "target = pd.read_csv(\"../data/data2.csv\")\n",
    "varsSource = dataPreProcessing(Dset = 1, df = source, processes = [\"clean\", \"predMap\", \"CFS\", \"centreMean\"], kFeatures = 6, tauRedundancy = 0.8)\n",
    "varsTar = dataPreProcessing(Dset = 2, df = target, processes = [\"clean\", \"predMap\", \"centreMean\"])\n",
    "source, target = varsSource[\"df\"], varsTar[\"df\"]\n",
    "\n",
    "targetLabels, sourceLabels = target[\"diagnosis\"], source[\"diagnosis\"]\n",
    "sourceNoLabel, targetNoLabel = source.drop([\"diagnosis\"], axis = 1), target.drop([\"diagnosis\"], axis = 1)\n",
    "dfSEnc = CORAL(dfS = sourceNoLabel, dfT = targetNoLabel, sourLabels = sourceLabels)\n",
    "dfSEnc.to_csv(\"../data/data1Encoded.csv\", index=False)\n"
   ]
  },
  {
   "cell_type": "code",
   "execution_count": null,
   "metadata": {},
   "outputs": [],
   "source": []
  }
 ],
 "metadata": {
  "kernelspec": {
   "display_name": "Python 3",
   "language": "python",
   "name": "python3"
  },
  "language_info": {
   "codemirror_mode": {
    "name": "ipython",
    "version": 3
   },
   "file_extension": ".py",
   "mimetype": "text/x-python",
   "name": "python",
   "nbconvert_exporter": "python",
   "pygments_lexer": "ipython3",
   "version": "3.10.16"
  }
 },
 "nbformat": 4,
 "nbformat_minor": 2
}
